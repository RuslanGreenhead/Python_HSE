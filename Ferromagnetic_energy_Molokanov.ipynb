{
 "cells": [
  {
   "cell_type": "code",
   "execution_count": 1,
   "id": "bbc2551e",
   "metadata": {},
   "outputs": [],
   "source": [
    "import numpy as np\n",
    "import matplotlib.pyplot as plt\n",
    "from itertools import product\n",
    "from functools import wraps, lru_cache\n",
    "from numba import jit, njit, prange\n",
    "import numba\n",
    "from tqdm import tqdm\n",
    "import time\n",
    "\n",
    "np.set_printoptions(precision=8, suppress=True)   # settings for printing numpy objects\n",
    "\n",
    "\n",
    "kT_arr = np.arange(1, 5.1, 0.1)     # array of kT values\n",
    "L_x = np.arange(2, 9)               # array of Lx values"
   ]
  },
  {
   "cell_type": "code",
   "execution_count": 3,
   "id": "8f316498",
   "metadata": {},
   "outputs": [
    {
     "data": {
      "text/plain": [
       "'\\nСредняя энергия для  𝐿𝑥=4  при температурах  𝑘𝑇∈[1,1.1,...,5.0] :\\n\\n\\n[-1.99715844 -1.99396091 -1.98856632 -1.98016965 -1.96786355 -1.95064256\\n -1.9274244  -1.89711215 -1.85871667 -1.81153907 -1.75538029 -1.69071311\\n -1.61874282 -1.54131149 -1.46065977 -1.37911648 -1.29880759 -1.22145424\\n -1.14828469 -1.0800446  -1.01706963 -0.95938399 -0.90679838 -0.85899291\\n -0.8155803  -0.77615005 -0.74029707 -0.70763857 -0.67782287 -0.65053286\\n -0.62548613 -0.60243323 -0.58115501 -0.56145948 -0.5431787  -0.52616582\\n -0.5102923  -0.49544555 -0.48152673 -0.46844889]\\n'"
      ]
     },
     "execution_count": 3,
     "metadata": {},
     "output_type": "execute_result"
    }
   ],
   "source": [
    "'''\n",
    "Средняя энергия для  𝐿𝑥=4  при температурах  𝑘𝑇∈[1,1.1,...,5.0] :\n",
    "\n",
    "\n",
    "[-1.99715844 -1.99396091 -1.98856632 -1.98016965 -1.96786355 -1.95064256\n",
    " -1.9274244  -1.89711215 -1.85871667 -1.81153907 -1.75538029 -1.69071311\n",
    " -1.61874282 -1.54131149 -1.46065977 -1.37911648 -1.29880759 -1.22145424\n",
    " -1.14828469 -1.0800446  -1.01706963 -0.95938399 -0.90679838 -0.85899291\n",
    " -0.8155803  -0.77615005 -0.74029707 -0.70763857 -0.67782287 -0.65053286\n",
    " -0.62548613 -0.60243323 -0.58115501 -0.56145948 -0.5431787  -0.52616582\n",
    " -0.5102923  -0.49544555 -0.48152673 -0.46844889]\n",
    "'''"
   ]
  },
  {
   "cell_type": "code",
   "execution_count": 7,
   "id": "42fa566c",
   "metadata": {},
   "outputs": [],
   "source": [
    "def timeit(func):\n",
    "    \n",
    "    \"\"\"\n",
    "    Decorator for measuring time of function execution.\n",
    "    \n",
    "    \"\"\"\n",
    "\n",
    "    @wraps(func)\n",
    "    def timeit_wrapper(*args, **kwargs):\n",
    "\n",
    "        start_time = time.perf_counter()\n",
    "        result = func(*args, **kwargs)\n",
    "        end_time = time.perf_counter()\n",
    "        total_time = end_time - start_time\n",
    "\n",
    "        return (result, total_time)\n",
    "\n",
    "    return timeit_wrapper"
   ]
  },
  {
   "cell_type": "code",
   "execution_count": 8,
   "id": "6affd6ea",
   "metadata": {},
   "outputs": [],
   "source": [
    "@njit(parallel=True)\n",
    "def get_energy_expectation(m: int, n: int, kT_arr):\n",
    "    \n",
    "    \"\"\"\n",
    "    Calculate mathematical expectation of the energy of ferromagnetic\n",
    "    for certain shape and list of kT values.\n",
    "    \n",
    "    Parameters:\n",
    "    ---------------\n",
    "    m: int\n",
    "       Width of ferromagnetic grid.\n",
    "    \n",
    "    n: int\n",
    "       Length of ferromagnetic grid.\n",
    "    \n",
    "    kT_arr: array_like[float]\n",
    "            List of kT values.\n",
    "        \n",
    "        \n",
    "    Returns:\n",
    "    ---------------\n",
    "    res_arr: array_like[int]\n",
    "             Array with calculated energy expectations for each kT value from kT_arr.\n",
    "             -> len(res_arr) == len(kT_arr)\n",
    "    \n",
    "    \"\"\"\n",
    "\n",
    "    res_arr = np.empty(len(kT_arr))\n",
    "    \n",
    "    for i in prange(len(kT_arr)):        # parallel loop over kT values\n",
    "        statsum = 0\n",
    "        en_sum = 0\n",
    "        kT = kT_arr[i]\n",
    "        \n",
    "        # Iterate through all spin matrices using binary numbers from 0 to 2**(m*n - 1)\n",
    "        # (-1) in power of 2 is because of using symmetry of the energy function.\n",
    "        # So, we use half as many spin configurations (then, we multiply each result energy by 2,\n",
    "        # but the same 2 appears in statsum -> they erase and I don't write them in code)\n",
    "        for num in range(2 ** (m * n - 1)):\n",
    "            num = numba.int64(num)                          # convert num to numba type (works a bit faster)\n",
    "            spin_mat = np.empty(m * n, dtype=np.int8)\n",
    "            \n",
    "            # Change 0 -> -1 in binary representation\n",
    "            for cell in range(m * n):                       \n",
    "                if (num & 1 == 0):\n",
    "                    spin_mat[cell] = -1\n",
    "                else:\n",
    "                    spin_mat[cell] = 1\n",
    "                num = num >> 1\n",
    "                \n",
    "            spin_mat = spin_mat.reshape((m, n))             # reshaping result sequence to a matrix\n",
    "            \n",
    "            # Energy calculation block\n",
    "            energy = 0\n",
    "            for k in range(m):\n",
    "                for j in range(n):\n",
    "                    energy -= spin_mat[k][j] * spin_mat[(k+1)%m][j] + spin_mat[k][j] * spin_mat[k][(j+1)%n]\n",
    "            en_sum += (energy * np.exp(((-1) * energy) / kT))\n",
    "            statsum += np.exp((-1) * energy / kT)\n",
    "            \n",
    "        res_arr[i] = (en_sum / statsum) / (m * n)           # normalize result expectation by the number of cells \n",
    "    \n",
    "    return res_arr"
   ]
  },
  {
   "cell_type": "code",
   "execution_count": 9,
   "id": "2e411bc7",
   "metadata": {},
   "outputs": [
    {
     "name": "stdout",
     "output_type": "stream",
     "text": [
      "Result: [-1.99715857 -1.99396113 -1.9885651  -1.98015781 -1.96780519 -1.95042956\n",
      " -1.92678909 -1.89549406 -1.8551112  -1.80440326 -1.74270304 -1.67032537\n",
      " -1.58882722 -1.50092868 -1.41005807 -1.31969261 -1.23276666 -1.15134108\n",
      " -1.07656139 -1.00881115 -0.94793988 -0.8934793  -0.84480933 -0.8012682\n",
      " -0.76221687 -0.72707144 -0.69531564 -0.66650184 -0.6402464  -0.61622247\n",
      " -0.59415234 -0.57380002 -0.55496464 -0.53747479 -0.52118369 -0.50596511\n",
      " -0.49171009 -0.47832415 -0.46572503 -0.45384075 -0.44260812]\n",
      "Time: 45.6008\n"
     ]
    }
   ],
   "source": [
    "# Test function for (6 * 4) grid\n",
    "\n",
    "res_arr, t = get_energy_expectation(6, 4, kT_arr=kT_arr)\n",
    "print(f\"Result: {res_arr}\")\n",
    "print(f\"Time: {t:.4f}\")"
   ]
  },
  {
   "cell_type": "code",
   "execution_count": 11,
   "id": "43857e2c",
   "metadata": {},
   "outputs": [
    {
     "name": "stdout",
     "output_type": "stream",
     "text": [
      "Lx = 2\n",
      "Result: [-1.99509474 -1.98967862 -1.98074878 -1.96731117 -1.94851445 -1.92375828\n",
      " -1.89277291 -1.85565639 -1.81286316 -1.76514762 -1.71347563 -1.65892227\n",
      " -1.60257405 -1.5454491  -1.48844224 -1.43229537 -1.3775895  -1.3247523\n",
      " -1.27407538 -1.22573609 -1.17982015 -1.13634286 -1.09526756 -1.05652101\n",
      " -1.02000562 -0.98560898 -0.9532109  -0.92268862 -0.89392045 -0.86678827\n",
      " -0.84117913 -0.8169862  -0.79410926 -0.77245486 -0.75193626 -0.73247322\n",
      " -0.71399168 -0.69642337 -0.67970548 -0.66378023 -0.64859447]\n",
      "Computation time: 0.0010825000000522778 seconds\n",
      "\n",
      "Lx = 3\n",
      "Result: [-1.99711779 -1.99383665 -1.98825271 -1.97949351 -1.96659182 -1.94853206\n",
      " -1.92432618 -1.89312223 -1.85433583 -1.80777902 -1.75375117 -1.69305981\n",
      " -1.62695673 -1.55700043 -1.48487836 -1.41223059 -1.34050963 -1.27089443\n",
      " -1.20425882 -1.14118312 -1.08199278 -1.02680913 -0.97560137 -0.92823315\n",
      " -0.88450084 -0.84416295 -0.80696158 -0.77263715 -0.7409381  -0.71162671\n",
      " -0.68448222 -0.65930219 -0.63590256 -0.61411702 -0.5937959  -0.57480491\n",
      " -0.55702372 -0.54034463 -0.52467121 -0.50991714 -0.49600503]\n",
      "Computation time: 0.011292200000070807 seconds\n",
      "\n",
      "Lx = 4\n",
      "Result: [-1.99715844 -1.99396091 -1.98856632 -1.98016965 -1.96786355 -1.95064256\n",
      " -1.9274244  -1.89711215 -1.85871667 -1.81153907 -1.75538029 -1.69071311\n",
      " -1.61874282 -1.54131149 -1.46065977 -1.37911648 -1.29880759 -1.22145424\n",
      " -1.14828469 -1.0800446  -1.01706963 -0.95938399 -0.90679838 -0.85899291\n",
      " -0.8155803  -0.77615005 -0.74029707 -0.70763857 -0.67782287 -0.65053286\n",
      " -0.62548613 -0.60243323 -0.58115501 -0.56145948 -0.5431787  -0.52616582\n",
      " -0.5102923  -0.49544555 -0.48152673 -0.46844889 -0.45613537]\n",
      "Computation time: 0.15119430000004286 seconds\n",
      "\n",
      "Lx = 5\n",
      "Result: [-1.99715893 -1.99396296 -1.98857263 -1.98018387 -1.96788363 -1.95063964\n",
      " -1.92729692 -1.89661121 -1.85735639 -1.80853133 -1.74965024 -1.68103752\n",
      " -1.60399878 -1.52075577 -1.43412763 -1.3470633  -1.26219309 -1.18153361\n",
      " -1.10638872 -1.03740747 -0.97472647 -0.918132   -0.86720255 -0.82141645\n",
      " -0.78022445 -0.74309384 -0.70953215 -0.67909749 -0.65140075 -0.62610332\n",
      " -0.60291264 -0.58157686 -0.56187952 -0.54363452 -0.52668165 -0.51088271\n",
      " -0.49611811 -0.48228409 -0.46929029 -0.45705774 -0.44551718]\n",
      "Computation time: 2.2906211999999186 seconds\n",
      "\n",
      "Lx = 6\n",
      "Result: [-1.99715857 -1.99396113 -1.9885651  -1.98015781 -1.96780519 -1.95042956\n",
      " -1.92678909 -1.89549406 -1.8551112  -1.80440326 -1.74270304 -1.67032537\n",
      " -1.58882722 -1.50092868 -1.41005807 -1.31969261 -1.23276666 -1.15134108\n",
      " -1.07656139 -1.00881115 -0.94793988 -0.8934793  -0.84480933 -0.8012682\n",
      " -0.76221687 -0.72707144 -0.69531564 -0.66650184 -0.6402464  -0.61622247\n",
      " -0.59415234 -0.57380002 -0.55496464 -0.53747479 -0.52118369 -0.50596511\n",
      " -0.49171009 -0.47832415 -0.46572503 -0.45384075 -0.44260812]\n",
      "Computation time: 42.424385500000085 seconds\n",
      "\n",
      "Lx = 7\n",
      "Result: [-1.9971582  -1.99395917 -1.98855691 -1.98012917 -1.96771861 -1.95019835\n",
      " -1.92623542 -1.89429394 -1.85274448 -1.80014858 -1.73572886 -1.65989968\n",
      " -1.57458935 -1.48308936 -1.38940408 -1.29738701 -1.21005576 -1.12930451\n",
      " -1.05597909 -0.99014354 -0.93137801 -0.87902058 -0.83233016 -0.79058107\n",
      " -0.75310988 -0.71933295 -0.68874798 -0.66092782 -0.63551132 -0.61219363\n",
      " -0.59071721 -0.5708639  -0.55244826 -0.53531194 -0.51931914 -0.50435283\n",
      " -0.49031169 -0.47710754 -0.46466335 -0.45291152 -0.44179242]\n",
      "Computation time: 521.0432336 seconds\n",
      "\n",
      "Lx = 8\n",
      "Result: [-1.99715782 -1.99395721 -1.98854869 -1.98010038 -1.96763138 -1.94996517\n",
      " -1.92567744 -1.89308831 -1.85038373 -1.79595515 -1.72897968 -1.65006503\n",
      " -1.56159888 -1.4674609  -1.37213466 -1.27966283 -1.19294766 -1.11358149\n",
      " -1.04206619 -0.97817673 -0.92129528 -0.87064765 -0.82544474 -0.78495364\n",
      " -0.74852625 -0.7156046  -0.68571477 -0.65845691 -0.63349417 -0.61054231\n",
      " -0.58936109 -0.56974634 -0.55152389 -0.53454441 -0.51867941 -0.50381756\n",
      " -0.48986204 -0.47672839 -0.46434246 -0.45263888 -0.44155994]\n",
      "Computation time: 8710.6273437 seconds\n",
      "\n"
     ]
    }
   ],
   "source": [
    "# Main calculation\n",
    "\n",
    "energies = np.empty((7, 41))\n",
    "\n",
    "for Lx in range(2, 9):\n",
    "    res_arr, t = get_energy_expectation(Lx, 4, kT_arr=kT_arr)\n",
    "    energies[Lx - 2] = res_arr\n",
    "    print(f\"Lx = {Lx}\")\n",
    "    print(f\"Result: {res_arr}\")\n",
    "    print(f\"Computation time: {t} seconds\\n\")"
   ]
  },
  {
   "cell_type": "code",
   "execution_count": 15,
   "id": "875bb70c",
   "metadata": {},
   "outputs": [],
   "source": [
    "np.save(\"ferr_energies.npy\", energies)                 # save result"
   ]
  },
  {
   "cell_type": "code",
   "execution_count": 16,
   "id": "6ea0237b",
   "metadata": {},
   "outputs": [],
   "source": [
    "loaded_energies = np.load(\"ferr_energies.npy\")         # load result "
   ]
  },
  {
   "cell_type": "code",
   "execution_count": 22,
   "id": "f261f780",
   "metadata": {},
   "outputs": [
    {
     "data": {
      "image/png": "[encoded data removed]",
      "text/plain": [
       "<Figure size 600x600 with 2 Axes>"
      ]
     },
     "metadata": {},
     "output_type": "display_data"
    }
   ],
   "source": [
    "# Heatmap for calculated energy expectations\n",
    "\n",
    "plt.figure(figsize=(6,6))\n",
    "f = plt.pcolormesh(np.swapaxes(loaded_energies,0,1), cmap='viridis')\n",
    "ax = plt.colorbar(f)\n",
    "plt.xlabel(\"Lx\")\n",
    "plt.ylabel(\"kT\")\n",
    "plt.xticks(np.arange(0, 8, 1), np.arange(2, 10, 1))\n",
    "plt.yticks(np.arange(0, 42, 5), np.linspace(1.0, 5.0, num=9))\n",
    "plt.title('Ferromagnetic Energy')\n",
    "plt.rcParams['font.size'] = 9\n",
    "plt.show()"
   ]
  },
  {
   "cell_type": "code",
   "execution_count": null,
   "id": "fdaeebaf",
   "metadata": {},
   "outputs": [],
   "source": []
  }
 ],
 "metadata": {
  "kernelspec": {
   "display_name": "Python 3 (ipykernel)",
   "language": "python",
   "name": "python3"
  },
  "language_info": {
   "codemirror_mode": {
    "name": "ipython",
    "version": 3
   },
   "file_extension": ".py",
   "mimetype": "text/x-python",
   "name": "python",
   "nbconvert_exporter": "python",
   "pygments_lexer": "ipython3",
   "version": "3.9.6"
  }
 },
 "nbformat": 4,
 "nbformat_minor": 5
}
